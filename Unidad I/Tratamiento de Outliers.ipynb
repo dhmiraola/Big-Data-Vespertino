{
 "cells": [
  {
   "cell_type": "markdown",
   "id": "136c39d3",
   "metadata": {},
   "source": [
    "## En esta clase veremos los metodos para el tratamiento de outliers o valores atipicos"
   ]
  },
  {
   "cell_type": "code",
   "execution_count": 1,
   "id": "8e9f3210",
   "metadata": {},
   "outputs": [
    {
     "data": {
      "text/html": [
       "<div>\n",
       "<style scoped>\n",
       "    .dataframe tbody tr th:only-of-type {\n",
       "        vertical-align: middle;\n",
       "    }\n",
       "\n",
       "    .dataframe tbody tr th {\n",
       "        vertical-align: top;\n",
       "    }\n",
       "\n",
       "    .dataframe thead th {\n",
       "        text-align: right;\n",
       "    }\n",
       "</style>\n",
       "<table border=\"1\" class=\"dataframe\">\n",
       "  <thead>\n",
       "    <tr style=\"text-align: right;\">\n",
       "      <th></th>\n",
       "      <th>ID_Cliente</th>\n",
       "      <th>Edad</th>\n",
       "      <th>Saldo_Cuenta</th>\n",
       "      <th>Num_Transacciones</th>\n",
       "      <th>Score_Credito</th>\n",
       "      <th>Monto_Prestamo</th>\n",
       "      <th>Dias_Ultimo_Pago</th>\n",
       "      <th>Inversiones</th>\n",
       "      <th>Num_Productos</th>\n",
       "      <th>Riesgo_Inversion</th>\n",
       "    </tr>\n",
       "  </thead>\n",
       "  <tbody>\n",
       "    <tr>\n",
       "      <th>0</th>\n",
       "      <td>1</td>\n",
       "      <td>62</td>\n",
       "      <td>69875.210793</td>\n",
       "      <td>90</td>\n",
       "      <td>828</td>\n",
       "      <td>39657.144381</td>\n",
       "      <td>24</td>\n",
       "      <td>106166.572431</td>\n",
       "      <td>7</td>\n",
       "      <td>0.126290</td>\n",
       "    </tr>\n",
       "    <tr>\n",
       "      <th>1</th>\n",
       "      <td>2</td>\n",
       "      <td>65</td>\n",
       "      <td>53079.988457</td>\n",
       "      <td>93</td>\n",
       "      <td>314</td>\n",
       "      <td>31143.595465</td>\n",
       "      <td>10</td>\n",
       "      <td>147576.119681</td>\n",
       "      <td>5</td>\n",
       "      <td>0.108898</td>\n",
       "    </tr>\n",
       "    <tr>\n",
       "      <th>2</th>\n",
       "      <td>3</td>\n",
       "      <td>18</td>\n",
       "      <td>50677.010231</td>\n",
       "      <td>119</td>\n",
       "      <td>310</td>\n",
       "      <td>36545.968189</td>\n",
       "      <td>33</td>\n",
       "      <td>92111.402846</td>\n",
       "      <td>9</td>\n",
       "      <td>0.975768</td>\n",
       "    </tr>\n",
       "    <tr>\n",
       "      <th>3</th>\n",
       "      <td>4</td>\n",
       "      <td>21</td>\n",
       "      <td>85094.372090</td>\n",
       "      <td>114</td>\n",
       "      <td>432</td>\n",
       "      <td>17888.951027</td>\n",
       "      <td>17</td>\n",
       "      <td>103205.311414</td>\n",
       "      <td>5</td>\n",
       "      <td>0.806648</td>\n",
       "    </tr>\n",
       "    <tr>\n",
       "      <th>4</th>\n",
       "      <td>5</td>\n",
       "      <td>21</td>\n",
       "      <td>45853.507325</td>\n",
       "      <td>97</td>\n",
       "      <td>808</td>\n",
       "      <td>11552.472339</td>\n",
       "      <td>19</td>\n",
       "      <td>126658.827788</td>\n",
       "      <td>6</td>\n",
       "      <td>0.811537</td>\n",
       "    </tr>\n",
       "  </tbody>\n",
       "</table>\n",
       "</div>"
      ],
      "text/plain": [
       "   ID_Cliente  Edad  Saldo_Cuenta  Num_Transacciones  Score_Credito  \\\n",
       "0           1    62  69875.210793                 90            828   \n",
       "1           2    65  53079.988457                 93            314   \n",
       "2           3    18  50677.010231                119            310   \n",
       "3           4    21  85094.372090                114            432   \n",
       "4           5    21  45853.507325                 97            808   \n",
       "\n",
       "   Monto_Prestamo  Dias_Ultimo_Pago    Inversiones  Num_Productos  \\\n",
       "0    39657.144381                24  106166.572431              7   \n",
       "1    31143.595465                10  147576.119681              5   \n",
       "2    36545.968189                33   92111.402846              9   \n",
       "3    17888.951027                17  103205.311414              5   \n",
       "4    11552.472339                19  126658.827788              6   \n",
       "\n",
       "   Riesgo_Inversion  \n",
       "0          0.126290  \n",
       "1          0.108898  \n",
       "2          0.975768  \n",
       "3          0.806648  \n",
       "4          0.811537  "
      ]
     },
     "execution_count": 1,
     "metadata": {},
     "output_type": "execute_result"
    }
   ],
   "source": [
    "import pandas as pd\n",
    "\n",
    "data = pd.read_excel('outliers.xlsx')\n",
    "\n",
    "data.head()"
   ]
  },
  {
   "cell_type": "code",
   "execution_count": 2,
   "id": "8eb46588",
   "metadata": {},
   "outputs": [
    {
     "data": {
      "text/plain": [
       "(2000, 10)"
      ]
     },
     "execution_count": 2,
     "metadata": {},
     "output_type": "execute_result"
    }
   ],
   "source": [
    "data.shape"
   ]
  },
  {
   "cell_type": "code",
   "execution_count": 3,
   "id": "777ed7c7",
   "metadata": {},
   "outputs": [
    {
     "data": {
      "text/html": [
       "<div>\n",
       "<style scoped>\n",
       "    .dataframe tbody tr th:only-of-type {\n",
       "        vertical-align: middle;\n",
       "    }\n",
       "\n",
       "    .dataframe tbody tr th {\n",
       "        vertical-align: top;\n",
       "    }\n",
       "\n",
       "    .dataframe thead th {\n",
       "        text-align: right;\n",
       "    }\n",
       "</style>\n",
       "<table border=\"1\" class=\"dataframe\">\n",
       "  <thead>\n",
       "    <tr style=\"text-align: right;\">\n",
       "      <th></th>\n",
       "      <th>ID_Cliente</th>\n",
       "      <th>Edad</th>\n",
       "      <th>Saldo_Cuenta</th>\n",
       "      <th>Num_Transacciones</th>\n",
       "      <th>Score_Credito</th>\n",
       "      <th>Monto_Prestamo</th>\n",
       "      <th>Dias_Ultimo_Pago</th>\n",
       "      <th>Inversiones</th>\n",
       "      <th>Num_Productos</th>\n",
       "      <th>Riesgo_Inversion</th>\n",
       "    </tr>\n",
       "  </thead>\n",
       "  <tbody>\n",
       "    <tr>\n",
       "      <th>count</th>\n",
       "      <td>2000.000000</td>\n",
       "      <td>2000.000000</td>\n",
       "      <td>2000.000000</td>\n",
       "      <td>2000.00000</td>\n",
       "      <td>2000.000000</td>\n",
       "      <td>2000.000000</td>\n",
       "      <td>2000.000000</td>\n",
       "      <td>2.000000e+03</td>\n",
       "      <td>2000.000000</td>\n",
       "      <td>2000.000000</td>\n",
       "    </tr>\n",
       "    <tr>\n",
       "      <th>mean</th>\n",
       "      <td>1000.500000</td>\n",
       "      <td>43.449500</td>\n",
       "      <td>60635.063089</td>\n",
       "      <td>99.76200</td>\n",
       "      <td>569.635000</td>\n",
       "      <td>32396.028737</td>\n",
       "      <td>29.723500</td>\n",
       "      <td>1.163966e+05</td>\n",
       "      <td>4.960500</td>\n",
       "      <td>0.496365</td>\n",
       "    </tr>\n",
       "    <tr>\n",
       "      <th>std</th>\n",
       "      <td>577.494589</td>\n",
       "      <td>15.054626</td>\n",
       "      <td>72675.901131</td>\n",
       "      <td>10.07115</td>\n",
       "      <td>159.728524</td>\n",
       "      <td>22324.252797</td>\n",
       "      <td>17.051171</td>\n",
       "      <td>1.200571e+05</td>\n",
       "      <td>2.572596</td>\n",
       "      <td>0.288222</td>\n",
       "    </tr>\n",
       "    <tr>\n",
       "      <th>min</th>\n",
       "      <td>1.000000</td>\n",
       "      <td>18.000000</td>\n",
       "      <td>3247.151126</td>\n",
       "      <td>68.00000</td>\n",
       "      <td>300.000000</td>\n",
       "      <td>10008.277939</td>\n",
       "      <td>0.000000</td>\n",
       "      <td>-1.471821e+04</td>\n",
       "      <td>1.000000</td>\n",
       "      <td>0.000803</td>\n",
       "    </tr>\n",
       "    <tr>\n",
       "      <th>25%</th>\n",
       "      <td>500.750000</td>\n",
       "      <td>31.000000</td>\n",
       "      <td>40195.909097</td>\n",
       "      <td>93.00000</td>\n",
       "      <td>427.000000</td>\n",
       "      <td>19896.264431</td>\n",
       "      <td>15.000000</td>\n",
       "      <td>7.846829e+04</td>\n",
       "      <td>3.000000</td>\n",
       "      <td>0.245538</td>\n",
       "    </tr>\n",
       "    <tr>\n",
       "      <th>50%</th>\n",
       "      <td>1000.500000</td>\n",
       "      <td>43.000000</td>\n",
       "      <td>50443.753139</td>\n",
       "      <td>100.00000</td>\n",
       "      <td>570.000000</td>\n",
       "      <td>29943.832540</td>\n",
       "      <td>30.000000</td>\n",
       "      <td>9.958701e+04</td>\n",
       "      <td>5.000000</td>\n",
       "      <td>0.498170</td>\n",
       "    </tr>\n",
       "    <tr>\n",
       "      <th>75%</th>\n",
       "      <td>1500.250000</td>\n",
       "      <td>56.000000</td>\n",
       "      <td>60533.508766</td>\n",
       "      <td>106.00000</td>\n",
       "      <td>708.000000</td>\n",
       "      <td>40299.683666</td>\n",
       "      <td>44.000000</td>\n",
       "      <td>1.214181e+05</td>\n",
       "      <td>7.000000</td>\n",
       "      <td>0.741723</td>\n",
       "    </tr>\n",
       "    <tr>\n",
       "      <th>max</th>\n",
       "      <td>2000.000000</td>\n",
       "      <td>69.000000</td>\n",
       "      <td>794184.048405</td>\n",
       "      <td>138.00000</td>\n",
       "      <td>849.000000</td>\n",
       "      <td>242444.709658</td>\n",
       "      <td>59.000000</td>\n",
       "      <td>1.450915e+06</td>\n",
       "      <td>9.000000</td>\n",
       "      <td>0.999968</td>\n",
       "    </tr>\n",
       "  </tbody>\n",
       "</table>\n",
       "</div>"
      ],
      "text/plain": [
       "        ID_Cliente         Edad   Saldo_Cuenta  Num_Transacciones  \\\n",
       "count  2000.000000  2000.000000    2000.000000         2000.00000   \n",
       "mean   1000.500000    43.449500   60635.063089           99.76200   \n",
       "std     577.494589    15.054626   72675.901131           10.07115   \n",
       "min       1.000000    18.000000    3247.151126           68.00000   \n",
       "25%     500.750000    31.000000   40195.909097           93.00000   \n",
       "50%    1000.500000    43.000000   50443.753139          100.00000   \n",
       "75%    1500.250000    56.000000   60533.508766          106.00000   \n",
       "max    2000.000000    69.000000  794184.048405          138.00000   \n",
       "\n",
       "       Score_Credito  Monto_Prestamo  Dias_Ultimo_Pago   Inversiones  \\\n",
       "count    2000.000000     2000.000000       2000.000000  2.000000e+03   \n",
       "mean      569.635000    32396.028737         29.723500  1.163966e+05   \n",
       "std       159.728524    22324.252797         17.051171  1.200571e+05   \n",
       "min       300.000000    10008.277939          0.000000 -1.471821e+04   \n",
       "25%       427.000000    19896.264431         15.000000  7.846829e+04   \n",
       "50%       570.000000    29943.832540         30.000000  9.958701e+04   \n",
       "75%       708.000000    40299.683666         44.000000  1.214181e+05   \n",
       "max       849.000000   242444.709658         59.000000  1.450915e+06   \n",
       "\n",
       "       Num_Productos  Riesgo_Inversion  \n",
       "count    2000.000000       2000.000000  \n",
       "mean        4.960500          0.496365  \n",
       "std         2.572596          0.288222  \n",
       "min         1.000000          0.000803  \n",
       "25%         3.000000          0.245538  \n",
       "50%         5.000000          0.498170  \n",
       "75%         7.000000          0.741723  \n",
       "max         9.000000          0.999968  "
      ]
     },
     "execution_count": 3,
     "metadata": {},
     "output_type": "execute_result"
    }
   ],
   "source": [
    "data.describe()"
   ]
  },
  {
   "cell_type": "code",
   "execution_count": 4,
   "id": "160125d1",
   "metadata": {},
   "outputs": [
    {
     "data": {
      "text/plain": [
       "ID_Cliente           0\n",
       "Edad                 0\n",
       "Saldo_Cuenta         0\n",
       "Num_Transacciones    0\n",
       "Score_Credito        0\n",
       "Monto_Prestamo       0\n",
       "Dias_Ultimo_Pago     0\n",
       "Inversiones          0\n",
       "Num_Productos        0\n",
       "Riesgo_Inversion     0\n",
       "dtype: int64"
      ]
     },
     "execution_count": 4,
     "metadata": {},
     "output_type": "execute_result"
    }
   ],
   "source": [
    "data.isnull().sum()"
   ]
  },
  {
   "cell_type": "code",
   "execution_count": 5,
   "id": "4740062f",
   "metadata": {},
   "outputs": [
    {
     "data": {
      "text/plain": [
       "ID_Cliente             int64\n",
       "Edad                   int64\n",
       "Saldo_Cuenta         float64\n",
       "Num_Transacciones      int64\n",
       "Score_Credito          int64\n",
       "Monto_Prestamo       float64\n",
       "Dias_Ultimo_Pago       int64\n",
       "Inversiones          float64\n",
       "Num_Productos          int64\n",
       "Riesgo_Inversion     float64\n",
       "dtype: object"
      ]
     },
     "execution_count": 5,
     "metadata": {},
     "output_type": "execute_result"
    }
   ],
   "source": [
    "data.dtypes"
   ]
  },
  {
   "cell_type": "markdown",
   "id": "f38f6b2d",
   "metadata": {},
   "source": [
    "### Tratamiento de Outliers"
   ]
  },
  {
   "cell_type": "code",
   "execution_count": 6,
   "id": "bb6c9138",
   "metadata": {},
   "outputs": [
    {
     "data": {
      "image/png": "[encoded data removed]",
      "text/plain": [
       "<Figure size 800x400 with 1 Axes>"
      ]
     },
     "metadata": {},
     "output_type": "display_data"
    }
   ],
   "source": [
    "# Con un boxplot podemos visualizar los valores atipicos y outliers\n",
    "import matplotlib.pyplot as plt\n",
    "\n",
    "plt.figure(figsize=(8,4))\n",
    "plt.boxplot(data['Saldo_Cuenta']) \n",
    "plt.title('Boxplot de Saldo Cuenta')\n",
    "plt.show()"
   ]
  },
  {
   "cell_type": "code",
   "execution_count": 7,
   "id": "1de572e2",
   "metadata": {},
   "outputs": [
    {
     "data": {
      "image/png": "[encoded data removed]",
      "text/plain": [
       "<Figure size 800x400 with 1 Axes>"
      ]
     },
     "metadata": {},
     "output_type": "display_data"
    }
   ],
   "source": [
    "# podemos verificar outliers mediante un histograma\n",
    "plt.figure(figsize=(8,4))\n",
    "plt.hist(data['Saldo_Cuenta'])\n",
    "plt.title('Boxplot de Saldo Cuenta')\n",
    "plt.show()"
   ]
  },
  {
   "cell_type": "code",
   "execution_count": 8,
   "id": "85cf2397",
   "metadata": {},
   "outputs": [],
   "source": [
    "# Eliminar los outliers mediante el metodo de recorrido intercuartil\n",
    "\n",
    "# Primero definimos los cuartiles\n",
    "Q1 = data['Saldo_Cuenta'].quantile(0.25) # 1er cuartil 25%\n",
    "Q3 = data['Saldo_Cuenta'].quantile(0.75) # 3er cuartil 75%\n",
    "IQR = Q3 - Q1\n",
    "\n",
    "# Luego definimos los limites mediante la 'regla de Tukey'\n",
    "limite_inferior = Q1 - 1.5 * IQR\n",
    "limite_superior = Q3 + 1.5 * IQR\n",
    "\n",
    "# Filtrar los datos para excluir outliers\n",
    "data = data[(data['Saldo_Cuenta'] >= limite_inferior) & (data['Saldo_Cuenta'] <= limite_superior)]"
   ]
  },
  {
   "cell_type": "code",
   "execution_count": 9,
   "id": "cd710280",
   "metadata": {},
   "outputs": [
    {
     "data": {
      "image/png": "[encoded data removed]",
      "text/plain": [
       "<Figure size 800x400 with 1 Axes>"
      ]
     },
     "metadata": {},
     "output_type": "display_data"
    }
   ],
   "source": [
    "plt.figure(figsize=(8,4))\n",
    "plt.boxplot(data['Saldo_Cuenta']) \n",
    "plt.title('Boxplot de Saldo Cuenta')\n",
    "plt.show()"
   ]
  },
  {
   "cell_type": "code",
   "execution_count": 10,
   "id": "d554814e",
   "metadata": {},
   "outputs": [
    {
     "data": {
      "image/png": "[encoded data removed]",
      "text/plain": [
       "<Figure size 800x400 with 1 Axes>"
      ]
     },
     "metadata": {},
     "output_type": "display_data"
    }
   ],
   "source": [
    "# podemos verificar outliers mediante un histograma\n",
    "plt.figure(figsize=(8,4))\n",
    "plt.hist(data['Saldo_Cuenta'])\n",
    "plt.title('Boxplot de Saldo Cuenta')\n",
    "plt.show()"
   ]
  },
  {
   "cell_type": "code",
   "execution_count": 11,
   "id": "c181f8b7",
   "metadata": {},
   "outputs": [],
   "source": [
    "data1 = data.copy()\n",
    "from scipy import stats\n",
    "\n",
    "# Eliminar outliers mediante la desviacion estandar\n",
    "# Calcular el Z-score para cada dato de la columna 'Saldo_Cuenta'\n",
    "data1['Saldo_Cuenta_Z_Score'] = stats.zscore(data1['Saldo_Cuenta'])\n",
    "\n",
    "# Filtrar datos con un Z-score menor a 3\n",
    "data1_outliers = data1[(data1['Saldo_Cuenta_Z_Score'] > -3) & (data1['Saldo_Cuenta_Z_Score'] < 3)]\n"
   ]
  },
  {
   "cell_type": "code",
   "execution_count": 12,
   "id": "ec0beac5",
   "metadata": {},
   "outputs": [],
   "source": [
    "# Eliminar outliers mediante el truncamiento o winsoracion\n",
    "data2 = data.copy()\n",
    "from scipy.stats.mstats import winsorize\n",
    "\n",
    "# Winsorizar la columna 'Saldo_Cuenta' al 5% en ambos extremos\n",
    "data2['Saldo_Cuenta_Winsorized'] = winsorize(data2['Saldo_Cuenta'], limits=[0.05, 0.05])\n"
   ]
  },
  {
   "cell_type": "code",
   "execution_count": 13,
   "id": "e362bf19",
   "metadata": {},
   "outputs": [],
   "source": [
    "# Reemplazar outliers por la mediana\n",
    "data3 = data.copy()\n",
    "\n",
    "# Identificar outliers\n",
    "outliers = (data3['Saldo_Cuenta'] < limite_inferior) | (data3['Saldo_Cuenta'] > limite_superior)\n",
    "\n",
    "# Reemplazar outliers por la mediana\n",
    "data3.loc[outliers, 'Saldo_Cuenta'] = data3['Saldo_Cuenta'].median()\n"
   ]
  },
  {
   "cell_type": "code",
   "execution_count": 14,
   "id": "87f509a2",
   "metadata": {},
   "outputs": [],
   "source": [
    "data4 = data.copy()\n",
    "# Considerar como outlier extremo aquellos valores fuera de 3 veces el IQR\n",
    "extreme_limite_inferior = Q1 - 3 * IQR\n",
    "extreme_limite_superior = Q3 + 3 * IQR\n",
    "\n",
    "# Eliminar los outliers extremos\n",
    "iqr3 = data3[(data3['Saldo_Cuenta'] >= extreme_limite_inferior) & (data3['Saldo_Cuenta'] <= extreme_limite_superior)]"
   ]
  }
 ],
 "metadata": {
  "kernelspec": {
   "display_name": "Python 3 (ipykernel)",
   "language": "python",
   "name": "python3"
  },
  "language_info": {
   "codemirror_mode": {
    "name": "ipython",
    "version": 3
   },
   "file_extension": ".py",
   "mimetype": "text/x-python",
   "name": "python",
   "nbconvert_exporter": "python",
   "pygments_lexer": "ipython3",
   "version": "3.11.5"
  }
 },
 "nbformat": 4,
 "nbformat_minor": 5
}
